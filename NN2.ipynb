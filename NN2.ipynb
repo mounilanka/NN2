{
 "cells": [
  {
   "cell_type": "code",
   "execution_count": 1,
   "id": "c8e5c56f",
   "metadata": {},
   "outputs": [],
   "source": [
    "import numpy as np\n",
    "import pandas as pd\n",
    "import matplotlib.pyplot as plt"
   ]
  },
  {
   "cell_type": "code",
   "execution_count": 2,
   "id": "4dec96fa",
   "metadata": {},
   "outputs": [],
   "source": [
    "from sklearn.datasets import load_iris"
   ]
  },
  {
   "cell_type": "code",
   "execution_count": 3,
   "id": "9193cb63",
   "metadata": {},
   "outputs": [
    {
     "name": "stdout",
     "output_type": "stream",
     "text": [
      "Requirement already satisfied: tensorflow in c:\\users\\sankr\\pictures\\new folder\\lib\\site-packages (2.9.1)\n",
      "Requirement already satisfied: protobuf<3.20,>=3.9.2 in c:\\users\\sankr\\pictures\\new folder\\lib\\site-packages (from tensorflow) (3.19.1)\n",
      "Requirement already satisfied: google-pasta>=0.1.1 in c:\\users\\sankr\\pictures\\new folder\\lib\\site-packages (from tensorflow) (0.2.0)\n",
      "Requirement already satisfied: tensorboard<2.10,>=2.9 in c:\\users\\sankr\\pictures\\new folder\\lib\\site-packages (from tensorflow) (2.9.1)\n",
      "Requirement already satisfied: libclang>=13.0.0 in c:\\users\\sankr\\pictures\\new folder\\lib\\site-packages (from tensorflow) (14.0.1)\n",
      "Requirement already satisfied: six>=1.12.0 in c:\\users\\sankr\\pictures\\new folder\\lib\\site-packages (from tensorflow) (1.16.0)\n",
      "Requirement already satisfied: typing-extensions>=3.6.6 in c:\\users\\sankr\\pictures\\new folder\\lib\\site-packages (from tensorflow) (4.1.1)\n",
      "Requirement already satisfied: numpy>=1.20 in c:\\users\\sankr\\pictures\\new folder\\lib\\site-packages (from tensorflow) (1.21.5)\n",
      "Requirement already satisfied: setuptools in c:\\users\\sankr\\pictures\\new folder\\lib\\site-packages (from tensorflow) (61.2.0)\n",
      "Requirement already satisfied: flatbuffers<2,>=1.12 in c:\\users\\sankr\\pictures\\new folder\\lib\\site-packages (from tensorflow) (1.12)\n",
      "Requirement already satisfied: packaging in c:\\users\\sankr\\pictures\\new folder\\lib\\site-packages (from tensorflow) (21.3)\n",
      "Requirement already satisfied: tensorflow-io-gcs-filesystem>=0.23.1 in c:\\users\\sankr\\pictures\\new folder\\lib\\site-packages (from tensorflow) (0.26.0)\n",
      "Requirement already satisfied: gast<=0.4.0,>=0.2.1 in c:\\users\\sankr\\pictures\\new folder\\lib\\site-packages (from tensorflow) (0.4.0)\n",
      "Requirement already satisfied: h5py>=2.9.0 in c:\\users\\sankr\\pictures\\new folder\\lib\\site-packages (from tensorflow) (3.6.0)\n",
      "Requirement already satisfied: keras<2.10.0,>=2.9.0rc0 in c:\\users\\sankr\\pictures\\new folder\\lib\\site-packages (from tensorflow) (2.9.0)\n",
      "Requirement already satisfied: grpcio<2.0,>=1.24.3 in c:\\users\\sankr\\pictures\\new folder\\lib\\site-packages (from tensorflow) (1.42.0)\n",
      "Requirement already satisfied: wrapt>=1.11.0 in c:\\users\\sankr\\pictures\\new folder\\lib\\site-packages (from tensorflow) (1.12.1)\n",
      "Requirement already satisfied: opt-einsum>=2.3.2 in c:\\users\\sankr\\pictures\\new folder\\lib\\site-packages (from tensorflow) (3.3.0)\n",
      "Requirement already satisfied: keras-preprocessing>=1.1.1 in c:\\users\\sankr\\pictures\\new folder\\lib\\site-packages (from tensorflow) (1.1.2)\n",
      "Requirement already satisfied: termcolor>=1.1.0 in c:\\users\\sankr\\pictures\\new folder\\lib\\site-packages (from tensorflow) (1.1.0)\n",
      "Requirement already satisfied: astunparse>=1.6.0 in c:\\users\\sankr\\pictures\\new folder\\lib\\site-packages (from tensorflow) (1.6.3)\n",
      "Requirement already satisfied: tensorflow-estimator<2.10.0,>=2.9.0rc0 in c:\\users\\sankr\\pictures\\new folder\\lib\\site-packages (from tensorflow) (2.9.0)\n",
      "Requirement already satisfied: absl-py>=1.0.0 in c:\\users\\sankr\\pictures\\new folder\\lib\\site-packages (from tensorflow) (1.1.0)\n",
      "Requirement already satisfied: wheel<1.0,>=0.23.0 in c:\\users\\sankr\\pictures\\new folder\\lib\\site-packages (from astunparse>=1.6.0->tensorflow) (0.37.1)\n",
      "Requirement already satisfied: tensorboard-data-server<0.7.0,>=0.6.0 in c:\\users\\sankr\\pictures\\new folder\\lib\\site-packages (from tensorboard<2.10,>=2.9->tensorflow) (0.6.1)\n",
      "Requirement already satisfied: tensorboard-plugin-wit>=1.6.0 in c:\\users\\sankr\\pictures\\new folder\\lib\\site-packages (from tensorboard<2.10,>=2.9->tensorflow) (1.8.1)\n",
      "Requirement already satisfied: werkzeug>=1.0.1 in c:\\users\\sankr\\pictures\\new folder\\lib\\site-packages (from tensorboard<2.10,>=2.9->tensorflow) (2.0.3)\n",
      "Requirement already satisfied: google-auth-oauthlib<0.5,>=0.4.1 in c:\\users\\sankr\\pictures\\new folder\\lib\\site-packages (from tensorboard<2.10,>=2.9->tensorflow) (0.4.6)\n",
      "Requirement already satisfied: requests<3,>=2.21.0 in c:\\users\\sankr\\pictures\\new folder\\lib\\site-packages (from tensorboard<2.10,>=2.9->tensorflow) (2.27.1)\n",
      "Requirement already satisfied: google-auth<3,>=1.6.3 in c:\\users\\sankr\\pictures\\new folder\\lib\\site-packages (from tensorboard<2.10,>=2.9->tensorflow) (1.33.0)\n",
      "Requirement already satisfied: markdown>=2.6.8 in c:\\users\\sankr\\pictures\\new folder\\lib\\site-packages (from tensorboard<2.10,>=2.9->tensorflow) (3.3.4)\n",
      "Requirement already satisfied: rsa<5,>=3.1.4 in c:\\users\\sankr\\pictures\\new folder\\lib\\site-packages (from google-auth<3,>=1.6.3->tensorboard<2.10,>=2.9->tensorflow) (4.7.2)\n",
      "Requirement already satisfied: pyasn1-modules>=0.2.1 in c:\\users\\sankr\\pictures\\new folder\\lib\\site-packages (from google-auth<3,>=1.6.3->tensorboard<2.10,>=2.9->tensorflow) (0.2.8)\n",
      "Requirement already satisfied: cachetools<5.0,>=2.0.0 in c:\\users\\sankr\\pictures\\new folder\\lib\\site-packages (from google-auth<3,>=1.6.3->tensorboard<2.10,>=2.9->tensorflow) (4.2.2)\n",
      "Requirement already satisfied: requests-oauthlib>=0.7.0 in c:\\users\\sankr\\pictures\\new folder\\lib\\site-packages (from google-auth-oauthlib<0.5,>=0.4.1->tensorboard<2.10,>=2.9->tensorflow) (1.3.1)\n",
      "Requirement already satisfied: pyasn1<0.5.0,>=0.4.6 in c:\\users\\sankr\\pictures\\new folder\\lib\\site-packages (from pyasn1-modules>=0.2.1->google-auth<3,>=1.6.3->tensorboard<2.10,>=2.9->tensorflow) (0.4.8)\n",
      "Requirement already satisfied: charset-normalizer~=2.0.0 in c:\\users\\sankr\\pictures\\new folder\\lib\\site-packages (from requests<3,>=2.21.0->tensorboard<2.10,>=2.9->tensorflow) (2.0.4)\n",
      "Requirement already satisfied: certifi>=2017.4.17 in c:\\users\\sankr\\pictures\\new folder\\lib\\site-packages (from requests<3,>=2.21.0->tensorboard<2.10,>=2.9->tensorflow) (2021.10.8)\n",
      "Requirement already satisfied: urllib3<1.27,>=1.21.1 in c:\\users\\sankr\\pictures\\new folder\\lib\\site-packages (from requests<3,>=2.21.0->tensorboard<2.10,>=2.9->tensorflow) (1.26.9)\n",
      "Requirement already satisfied: idna<4,>=2.5 in c:\\users\\sankr\\pictures\\new folder\\lib\\site-packages (from requests<3,>=2.21.0->tensorboard<2.10,>=2.9->tensorflow) (3.3)\n",
      "Requirement already satisfied: oauthlib>=3.0.0 in c:\\users\\sankr\\pictures\\new folder\\lib\\site-packages (from requests-oauthlib>=0.7.0->google-auth-oauthlib<0.5,>=0.4.1->tensorboard<2.10,>=2.9->tensorflow) (3.2.0)\n",
      "Requirement already satisfied: pyparsing!=3.0.5,>=2.0.2 in c:\\users\\sankr\\pictures\\new folder\\lib\\site-packages (from packaging->tensorflow) (3.0.4)\n"
     ]
    }
   ],
   "source": [
    "!pip install tensorflow"
   ]
  },
  {
   "cell_type": "code",
   "execution_count": 4,
   "id": "7a2af2d0",
   "metadata": {},
   "outputs": [],
   "source": [
    "from tensorflow.keras.layers import Dense #NN"
   ]
  },
  {
   "cell_type": "code",
   "execution_count": 5,
   "id": "1d6d0511",
   "metadata": {},
   "outputs": [],
   "source": [
    "from tensorflow.keras.models import Sequential\n",
    "from tensorflow.keras.utils import to_categorical"
   ]
  },
  {
   "cell_type": "code",
   "execution_count": 6,
   "id": "8da03aa9",
   "metadata": {},
   "outputs": [],
   "source": [
    "# 0 - [1, 0, 0]\n",
    "# 1 - [0, 1, 0]\n",
    "# 2 - [0, 0, 1]"
   ]
  },
  {
   "cell_type": "code",
   "execution_count": 7,
   "id": "04dedc44",
   "metadata": {},
   "outputs": [],
   "source": [
    "data = load_iris()\n",
    "features = data['data']\n",
    "target = data['target']"
   ]
  },
  {
   "cell_type": "code",
   "execution_count": 8,
   "id": "dc11301c",
   "metadata": {},
   "outputs": [
    {
     "data": {
      "text/plain": [
       "array([0, 0, 0, 0, 0, 0, 0, 0, 0, 0, 0, 0, 0, 0, 0, 0, 0, 0, 0, 0, 0, 0,\n",
       "       0, 0, 0, 0, 0, 0, 0, 0, 0, 0, 0, 0, 0, 0, 0, 0, 0, 0, 0, 0, 0, 0,\n",
       "       0, 0, 0, 0, 0, 0, 1, 1, 1, 1, 1, 1, 1, 1, 1, 1, 1, 1, 1, 1, 1, 1,\n",
       "       1, 1, 1, 1, 1, 1, 1, 1, 1, 1, 1, 1, 1, 1, 1, 1, 1, 1, 1, 1, 1, 1,\n",
       "       1, 1, 1, 1, 1, 1, 1, 1, 1, 1, 1, 1, 2, 2, 2, 2, 2, 2, 2, 2, 2, 2,\n",
       "       2, 2, 2, 2, 2, 2, 2, 2, 2, 2, 2, 2, 2, 2, 2, 2, 2, 2, 2, 2, 2, 2,\n",
       "       2, 2, 2, 2, 2, 2, 2, 2, 2, 2, 2, 2, 2, 2, 2, 2, 2, 2])"
      ]
     },
     "execution_count": 8,
     "metadata": {},
     "output_type": "execute_result"
    }
   ],
   "source": [
    "target"
   ]
  },
  {
   "cell_type": "code",
   "execution_count": 9,
   "id": "98867236",
   "metadata": {},
   "outputs": [],
   "source": [
    "targets_ = to_categorical(target, num_classes=3)"
   ]
  },
  {
   "cell_type": "code",
   "execution_count": 10,
   "id": "2c815c36",
   "metadata": {},
   "outputs": [
    {
     "data": {
      "text/plain": [
       "4"
      ]
     },
     "execution_count": 10,
     "metadata": {},
     "output_type": "execute_result"
    }
   ],
   "source": [
    "features.shape[1]"
   ]
  },
  {
   "cell_type": "code",
   "execution_count": 11,
   "id": "117ea0e2",
   "metadata": {},
   "outputs": [],
   "source": [
    "from sklearn.model_selection import train_test_split\n",
    "\n",
    "X_train, X_test, y_train, y_test = train_test_split(features, targets_)\n",
    "X_train, X_val, y_train, y_val = train_test_split(X_train, y_train)"
   ]
  },
  {
   "cell_type": "code",
   "execution_count": 12,
   "id": "e2cb170c",
   "metadata": {},
   "outputs": [],
   "source": [
    "model = Sequential()\n",
    "\n",
    "model.add(Dense(100, input_shape=(features.shape[1],)))\n",
    "model.add(Dense(30, activation=\"relu\"))\n",
    "# model.add(Dense(45, activation=\"relu\"))\n",
    "# model.add(Dense(32, activation=\"relu\"))\n",
    "# model.add(Dense(23, activation=\"relu\"))\n",
    "model.add(Dense(3, activation=\"softmax\"))"
   ]
  },
  {
   "cell_type": "code",
   "execution_count": 13,
   "id": "afe92e2f",
   "metadata": {},
   "outputs": [
    {
     "name": "stdout",
     "output_type": "stream",
     "text": [
      "Model: \"sequential\"\n",
      "_________________________________________________________________\n",
      " Layer (type)                Output Shape              Param #   \n",
      "=================================================================\n",
      " dense (Dense)               (None, 100)               500       \n",
      "                                                                 \n",
      " dense_1 (Dense)             (None, 30)                3030      \n",
      "                                                                 \n",
      " dense_2 (Dense)             (None, 3)                 93        \n",
      "                                                                 \n",
      "=================================================================\n",
      "Total params: 3,623\n",
      "Trainable params: 3,623\n",
      "Non-trainable params: 0\n",
      "_________________________________________________________________\n"
     ]
    }
   ],
   "source": [
    "model.summary()"
   ]
  },
  {
   "cell_type": "code",
   "execution_count": 14,
   "id": "b39c081f",
   "metadata": {},
   "outputs": [],
   "source": [
    "import tensorflow\n",
    "\n",
    "model.compile(optimizer=\"sgd\", \n",
    "              loss=tensorflow.keras.losses.CategoricalCrossentropy(), \n",
    "              metrics=['accuracy'])"
   ]
  },
  {
   "cell_type": "code",
   "execution_count": 15,
   "id": "cc9c5d8f",
   "metadata": {},
   "outputs": [
    {
     "name": "stdout",
     "output_type": "stream",
     "text": [
      "Epoch 1/50\n",
      "3/3 [==============================] - 1s 89ms/step - loss: 1.3749 - accuracy: 0.3333 - val_loss: 1.0091 - val_accuracy: 0.3929\n",
      "Epoch 2/50\n",
      "3/3 [==============================] - 0s 12ms/step - loss: 1.0819 - accuracy: 0.3571 - val_loss: 1.0121 - val_accuracy: 0.7857\n",
      "Epoch 3/50\n",
      "3/3 [==============================] - 0s 12ms/step - loss: 1.1007 - accuracy: 0.5833 - val_loss: 0.9022 - val_accuracy: 0.6071\n",
      "Epoch 4/50\n",
      "3/3 [==============================] - 0s 12ms/step - loss: 0.9489 - accuracy: 0.5952 - val_loss: 0.9912 - val_accuracy: 0.5000\n",
      "Epoch 5/50\n",
      "3/3 [==============================] - 0s 8ms/step - loss: 0.9125 - accuracy: 0.6905 - val_loss: 0.8534 - val_accuracy: 0.6071\n",
      "Epoch 6/50\n",
      "3/3 [==============================] - 0s 8ms/step - loss: 0.8474 - accuracy: 0.7143 - val_loss: 0.8475 - val_accuracy: 0.8571\n",
      "Epoch 7/50\n",
      "3/3 [==============================] - 0s 11ms/step - loss: 0.9081 - accuracy: 0.6905 - val_loss: 0.8285 - val_accuracy: 0.8929\n",
      "Epoch 8/50\n",
      "3/3 [==============================] - 0s 11ms/step - loss: 0.7704 - accuracy: 0.7738 - val_loss: 0.7524 - val_accuracy: 0.6071\n",
      "Epoch 9/50\n",
      "3/3 [==============================] - 0s 12ms/step - loss: 0.7786 - accuracy: 0.6190 - val_loss: 0.8035 - val_accuracy: 0.5357\n",
      "Epoch 10/50\n",
      "3/3 [==============================] - 0s 12ms/step - loss: 0.7230 - accuracy: 0.8095 - val_loss: 0.7322 - val_accuracy: 0.7857\n",
      "Epoch 11/50\n",
      "3/3 [==============================] - 0s 12ms/step - loss: 0.7558 - accuracy: 0.6667 - val_loss: 0.9141 - val_accuracy: 0.5357\n",
      "Epoch 12/50\n",
      "3/3 [==============================] - 0s 12ms/step - loss: 0.7008 - accuracy: 0.8214 - val_loss: 0.6692 - val_accuracy: 0.6071\n",
      "Epoch 13/50\n",
      "3/3 [==============================] - 0s 8ms/step - loss: 0.6403 - accuracy: 0.7262 - val_loss: 0.6833 - val_accuracy: 0.7857\n",
      "Epoch 14/50\n",
      "3/3 [==============================] - 0s 12ms/step - loss: 0.6351 - accuracy: 0.7500 - val_loss: 0.7985 - val_accuracy: 0.5357\n",
      "Epoch 15/50\n",
      "3/3 [==============================] - 0s 12ms/step - loss: 0.6432 - accuracy: 0.7976 - val_loss: 0.6330 - val_accuracy: 0.7143\n",
      "Epoch 16/50\n",
      "3/3 [==============================] - 0s 12ms/step - loss: 0.5860 - accuracy: 0.8571 - val_loss: 0.6212 - val_accuracy: 0.9286\n",
      "Epoch 17/50\n",
      "3/3 [==============================] - 0s 12ms/step - loss: 0.5744 - accuracy: 0.8571 - val_loss: 0.6247 - val_accuracy: 0.6071\n",
      "Epoch 18/50\n",
      "3/3 [==============================] - 0s 12ms/step - loss: 0.5974 - accuracy: 0.6548 - val_loss: 0.6122 - val_accuracy: 0.9643\n",
      "Epoch 19/50\n",
      "3/3 [==============================] - 0s 12ms/step - loss: 0.5672 - accuracy: 0.7619 - val_loss: 0.6032 - val_accuracy: 0.8929\n",
      "Epoch 20/50\n",
      "3/3 [==============================] - 0s 12ms/step - loss: 0.5373 - accuracy: 0.8690 - val_loss: 0.5882 - val_accuracy: 0.9643\n",
      "Epoch 21/50\n",
      "3/3 [==============================] - 0s 12ms/step - loss: 0.5256 - accuracy: 0.9048 - val_loss: 0.5685 - val_accuracy: 0.9286\n",
      "Epoch 22/50\n",
      "3/3 [==============================] - 0s 8ms/step - loss: 0.5156 - accuracy: 0.9048 - val_loss: 0.5859 - val_accuracy: 0.6071\n",
      "Epoch 23/50\n",
      "3/3 [==============================] - 0s 12ms/step - loss: 0.5376 - accuracy: 0.6905 - val_loss: 0.7908 - val_accuracy: 0.5357\n",
      "Epoch 24/50\n",
      "3/3 [==============================] - 0s 12ms/step - loss: 0.5221 - accuracy: 0.7619 - val_loss: 0.5474 - val_accuracy: 0.8571\n",
      "Epoch 25/50\n",
      "3/3 [==============================] - 0s 12ms/step - loss: 0.5037 - accuracy: 0.8095 - val_loss: 0.5798 - val_accuracy: 0.7143\n",
      "Epoch 26/50\n",
      "3/3 [==============================] - 0s 12ms/step - loss: 0.4850 - accuracy: 0.9048 - val_loss: 0.5276 - val_accuracy: 0.8571\n",
      "Epoch 27/50\n",
      "3/3 [==============================] - 0s 8ms/step - loss: 0.4988 - accuracy: 0.7619 - val_loss: 0.5229 - val_accuracy: 0.9286\n",
      "Epoch 28/50\n",
      "3/3 [==============================] - 0s 8ms/step - loss: 0.4649 - accuracy: 0.8690 - val_loss: 0.5308 - val_accuracy: 0.9286\n",
      "Epoch 29/50\n",
      "3/3 [==============================] - 0s 12ms/step - loss: 0.4581 - accuracy: 0.9048 - val_loss: 0.5147 - val_accuracy: 0.9643\n",
      "Epoch 30/50\n",
      "3/3 [==============================] - 0s 12ms/step - loss: 0.4475 - accuracy: 0.9524 - val_loss: 0.5010 - val_accuracy: 0.9286\n",
      "Epoch 31/50\n",
      "3/3 [==============================] - 0s 12ms/step - loss: 0.4460 - accuracy: 0.8571 - val_loss: 0.5086 - val_accuracy: 0.9286\n",
      "Epoch 32/50\n",
      "3/3 [==============================] - 0s 12ms/step - loss: 0.4363 - accuracy: 0.9286 - val_loss: 0.4920 - val_accuracy: 0.8214\n",
      "Epoch 33/50\n",
      "3/3 [==============================] - 0s 11ms/step - loss: 0.4302 - accuracy: 0.8929 - val_loss: 0.4945 - val_accuracy: 0.9643\n",
      "Epoch 34/50\n",
      "3/3 [==============================] - 0s 12ms/step - loss: 0.4251 - accuracy: 0.9524 - val_loss: 0.4868 - val_accuracy: 0.9643\n",
      "Epoch 35/50\n",
      "3/3 [==============================] - 0s 12ms/step - loss: 0.4201 - accuracy: 0.8690 - val_loss: 0.4792 - val_accuracy: 0.9643\n",
      "Epoch 36/50\n",
      "3/3 [==============================] - 0s 8ms/step - loss: 0.4318 - accuracy: 0.8690 - val_loss: 0.4801 - val_accuracy: 0.9286\n",
      "Epoch 37/50\n",
      "3/3 [==============================] - 0s 12ms/step - loss: 0.4087 - accuracy: 0.9405 - val_loss: 0.4796 - val_accuracy: 0.9286\n",
      "Epoch 38/50\n",
      "3/3 [==============================] - 0s 12ms/step - loss: 0.4288 - accuracy: 0.8333 - val_loss: 0.5095 - val_accuracy: 0.8214\n",
      "Epoch 39/50\n",
      "3/3 [==============================] - 0s 12ms/step - loss: 0.4078 - accuracy: 0.8810 - val_loss: 0.4727 - val_accuracy: 0.6786\n",
      "Epoch 40/50\n",
      "3/3 [==============================] - 0s 12ms/step - loss: 0.4190 - accuracy: 0.8571 - val_loss: 0.4574 - val_accuracy: 0.9643\n",
      "Epoch 41/50\n",
      "3/3 [==============================] - 0s 8ms/step - loss: 0.3996 - accuracy: 0.9048 - val_loss: 0.4469 - val_accuracy: 0.9643\n",
      "Epoch 42/50\n",
      "3/3 [==============================] - 0s 8ms/step - loss: 0.3965 - accuracy: 0.8929 - val_loss: 0.4480 - val_accuracy: 0.8214\n",
      "Epoch 43/50\n",
      "3/3 [==============================] - 0s 8ms/step - loss: 0.3950 - accuracy: 0.8810 - val_loss: 0.4429 - val_accuracy: 0.8929\n",
      "Epoch 44/50\n",
      "3/3 [==============================] - 0s 8ms/step - loss: 0.4060 - accuracy: 0.8571 - val_loss: 0.4650 - val_accuracy: 0.6786\n",
      "Epoch 45/50\n",
      "3/3 [==============================] - 0s 8ms/step - loss: 0.4200 - accuracy: 0.8095 - val_loss: 0.4593 - val_accuracy: 0.6786\n",
      "Epoch 46/50\n",
      "3/3 [==============================] - 0s 12ms/step - loss: 0.3947 - accuracy: 0.8929 - val_loss: 0.4585 - val_accuracy: 0.9286\n",
      "Epoch 47/50\n",
      "3/3 [==============================] - 0s 12ms/step - loss: 0.3700 - accuracy: 0.9405 - val_loss: 0.4226 - val_accuracy: 0.9643\n",
      "Epoch 48/50\n",
      "3/3 [==============================] - 0s 12ms/step - loss: 0.3671 - accuracy: 0.9167 - val_loss: 0.4294 - val_accuracy: 0.8214\n",
      "Epoch 49/50\n",
      "3/3 [==============================] - 0s 20ms/step - loss: 0.3676 - accuracy: 0.8810 - val_loss: 0.4318 - val_accuracy: 0.8929\n",
      "Epoch 50/50\n",
      "3/3 [==============================] - 0s 12ms/step - loss: 0.3571 - accuracy: 0.9286 - val_loss: 0.4110 - val_accuracy: 0.9286\n"
     ]
    },
    {
     "data": {
      "text/plain": [
       "<keras.callbacks.History at 0x2614d1603a0>"
      ]
     },
     "execution_count": 15,
     "metadata": {},
     "output_type": "execute_result"
    }
   ],
   "source": [
    "model.fit(X_train, y_train, epochs=50, validation_data=(X_val, y_val))"
   ]
  },
  {
   "cell_type": "code",
   "execution_count": 16,
   "id": "a21b42cd",
   "metadata": {},
   "outputs": [
    {
     "data": {
      "text/plain": [
       "(84, 4)"
      ]
     },
     "execution_count": 16,
     "metadata": {},
     "output_type": "execute_result"
    }
   ],
   "source": [
    "X_train.shape"
   ]
  },
  {
   "cell_type": "code",
   "execution_count": 17,
   "id": "c92f88b8",
   "metadata": {},
   "outputs": [
    {
     "data": {
      "text/plain": [
       "(84, 3)"
      ]
     },
     "execution_count": 17,
     "metadata": {},
     "output_type": "execute_result"
    }
   ],
   "source": [
    "y_train.shape"
   ]
  },
  {
   "cell_type": "code",
   "execution_count": 27,
   "id": "fe5b1acd",
   "metadata": {},
   "outputs": [
    {
     "name": "stdout",
     "output_type": "stream",
     "text": [
      "2/2 [==============================] - 0s 0s/step\n"
     ]
    }
   ],
   "source": [
    "#y_pred = model.predict(X_test)\n",
    "y_pred = np.argmax(model.predict(X_test),axis=1)"
   ]
  },
  {
   "cell_type": "code",
   "execution_count": 28,
   "id": "f4ce97d5",
   "metadata": {},
   "outputs": [
    {
     "data": {
      "text/plain": [
       "array([2, 1, 0, 2, 0, 0, 0, 2, 1, 1, 1, 2, 0, 2, 0, 2, 2, 2, 2, 2, 0, 2,\n",
       "       0, 2, 1, 1, 0, 0, 0, 0, 2, 0, 0, 2, 1, 0, 0, 0], dtype=int64)"
      ]
     },
     "execution_count": 28,
     "metadata": {},
     "output_type": "execute_result"
    }
   ],
   "source": [
    "y_pred"
   ]
  },
  {
   "cell_type": "code",
   "execution_count": 29,
   "id": "03678696",
   "metadata": {},
   "outputs": [
    {
     "data": {
      "text/plain": [
       "0.9473684210526315"
      ]
     },
     "execution_count": 29,
     "metadata": {},
     "output_type": "execute_result"
    }
   ],
   "source": [
    "from sklearn.metrics import accuracy_score\n",
    "\n",
    "y_test_ = []\n",
    "\n",
    "for i in y_test:\n",
    "    \n",
    "    y_test_.append(np.argmax(i))\n",
    "\n",
    "accuracy_score(y_test_, y_pred)"
   ]
  },
  {
   "cell_type": "code",
   "execution_count": 26,
   "id": "ea684776",
   "metadata": {},
   "outputs": [],
   "source": [
    "model.save(\"NN.h5\")"
   ]
  },
  {
   "cell_type": "code",
   "execution_count": null,
   "id": "7b623e53",
   "metadata": {},
   "outputs": [],
   "source": [
    "from tensorflow.keras.models import load_model"
   ]
  },
  {
   "cell_type": "code",
   "execution_count": null,
   "id": "0c31cf41",
   "metadata": {},
   "outputs": [],
   "source": [
    "model = load_model(\"./NN.h5\")"
   ]
  },
  {
   "cell_type": "code",
   "execution_count": null,
   "id": "a7032329",
   "metadata": {},
   "outputs": [],
   "source": [
    "model.summary()"
   ]
  },
  {
   "cell_type": "code",
   "execution_count": null,
   "id": "71078bd6",
   "metadata": {},
   "outputs": [],
   "source": [
    "clas = model.predict([[0.9, 0.8, 0.5, 0.9]])"
   ]
  },
  {
   "cell_type": "code",
   "execution_count": null,
   "id": "abc69143",
   "metadata": {},
   "outputs": [],
   "source": [
    "clas"
   ]
  },
  {
   "cell_type": "code",
   "execution_count": null,
   "id": "ba076639",
   "metadata": {},
   "outputs": [],
   "source": [
    "# np.argmax(clas)"
   ]
  },
  {
   "cell_type": "code",
   "execution_count": null,
   "id": "c6406bb9",
   "metadata": {},
   "outputs": [],
   "source": [
    "classes = ['iris satosa', 'virginica', 'iris color']\n",
    "\n",
    "classes[np.argmax(clas)]"
   ]
  },
  {
   "cell_type": "code",
   "execution_count": null,
   "id": "000e3389",
   "metadata": {},
   "outputs": [],
   "source": []
  }
 ],
 "metadata": {
  "kernelspec": {
   "display_name": "Python 3 (ipykernel)",
   "language": "python",
   "name": "python3"
  },
  "language_info": {
   "codemirror_mode": {
    "name": "ipython",
    "version": 3
   },
   "file_extension": ".py",
   "mimetype": "text/x-python",
   "name": "python",
   "nbconvert_exporter": "python",
   "pygments_lexer": "ipython3",
   "version": "3.9.12"
  }
 },
 "nbformat": 4,
 "nbformat_minor": 5
}
