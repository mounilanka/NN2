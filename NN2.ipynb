{
 "cells": [
  {
   "cell_type": "markdown",
   "id": "21ca54e1",
   "metadata": {},
   "source": [
    "# Import Libraries"
   ]
  },
  {
   "cell_type": "code",
   "execution_count": null,
   "id": "4c4bc0bc",
   "metadata": {},
   "outputs": [],
   "source": [
    "import numpy as np\n",
    "import pandas as pd\n",
    "import matplotlib.pyplot as plt"
   ]
  },
  {
   "cell_type": "code",
   "execution_count": 2,
   "id": "4dec96fa",
   "metadata": {},
   "outputs": [],
   "source": [
    "from sklearn.datasets import load_iris"
   ]
  },
  {
   "cell_type": "code",
   "execution_count": 3,
   "id": "9193cb63",
   "metadata": {},
   "outputs": [
    {
     "name": "stdout",
     "output_type": "stream",
     "text": [
      "Requirement already satisfied: tensorflow in c:\\users\\sankr\\pictures\\new folder\\lib\\site-packages (2.9.1)\n",
      "Requirement already satisfied: wrapt>=1.11.0 in c:\\users\\sankr\\pictures\\new folder\\lib\\site-packages (from tensorflow) (1.12.1)\n",
      "Requirement already satisfied: h5py>=2.9.0 in c:\\users\\sankr\\pictures\\new folder\\lib\\site-packages (from tensorflow) (3.6.0)\n",
      "Requirement already satisfied: numpy>=1.20 in c:\\users\\sankr\\pictures\\new folder\\lib\\site-packages (from tensorflow) (1.21.5)\n",
      "Requirement already satisfied: google-pasta>=0.1.1 in c:\\users\\sankr\\pictures\\new folder\\lib\\site-packages (from tensorflow) (0.2.0)\n",
      "Requirement already satisfied: flatbuffers<2,>=1.12 in c:\\users\\sankr\\pictures\\new folder\\lib\\site-packages (from tensorflow) (1.12)\n",
      "Requirement already satisfied: keras-preprocessing>=1.1.1 in c:\\users\\sankr\\pictures\\new folder\\lib\\site-packages (from tensorflow) (1.1.2)\n",
      "Requirement already satisfied: libclang>=13.0.0 in c:\\users\\sankr\\pictures\\new folder\\lib\\site-packages (from tensorflow) (14.0.1)\n",
      "Requirement already satisfied: tensorboard<2.10,>=2.9 in c:\\users\\sankr\\pictures\\new folder\\lib\\site-packages (from tensorflow) (2.9.1)\n",
      "Requirement already satisfied: typing-extensions>=3.6.6 in c:\\users\\sankr\\pictures\\new folder\\lib\\site-packages (from tensorflow) (4.1.1)\n",
      "Requirement already satisfied: absl-py>=1.0.0 in c:\\users\\sankr\\pictures\\new folder\\lib\\site-packages (from tensorflow) (1.1.0)\n",
      "Requirement already satisfied: keras<2.10.0,>=2.9.0rc0 in c:\\users\\sankr\\pictures\\new folder\\lib\\site-packages (from tensorflow) (2.9.0)\n",
      "Requirement already satisfied: setuptools in c:\\users\\sankr\\pictures\\new folder\\lib\\site-packages (from tensorflow) (61.2.0)\n",
      "Requirement already satisfied: gast<=0.4.0,>=0.2.1 in c:\\users\\sankr\\pictures\\new folder\\lib\\site-packages (from tensorflow) (0.4.0)\n",
      "Requirement already satisfied: tensorflow-io-gcs-filesystem>=0.23.1 in c:\\users\\sankr\\pictures\\new folder\\lib\\site-packages (from tensorflow) (0.26.0)\n",
      "Requirement already satisfied: packaging in c:\\users\\sankr\\pictures\\new folder\\lib\\site-packages (from tensorflow) (21.3)\n",
      "Requirement already satisfied: six>=1.12.0 in c:\\users\\sankr\\pictures\\new folder\\lib\\site-packages (from tensorflow) (1.16.0)\n",
      "Requirement already satisfied: astunparse>=1.6.0 in c:\\users\\sankr\\pictures\\new folder\\lib\\site-packages (from tensorflow) (1.6.3)\n",
      "Requirement already satisfied: termcolor>=1.1.0 in c:\\users\\sankr\\pictures\\new folder\\lib\\site-packages (from tensorflow) (1.1.0)\n",
      "Requirement already satisfied: tensorflow-estimator<2.10.0,>=2.9.0rc0 in c:\\users\\sankr\\pictures\\new folder\\lib\\site-packages (from tensorflow) (2.9.0)\n",
      "Requirement already satisfied: protobuf<3.20,>=3.9.2 in c:\\users\\sankr\\pictures\\new folder\\lib\\site-packages (from tensorflow) (3.19.1)\n",
      "Requirement already satisfied: grpcio<2.0,>=1.24.3 in c:\\users\\sankr\\pictures\\new folder\\lib\\site-packages (from tensorflow) (1.42.0)\n",
      "Requirement already satisfied: opt-einsum>=2.3.2 in c:\\users\\sankr\\pictures\\new folder\\lib\\site-packages (from tensorflow) (3.3.0)\n",
      "Requirement already satisfied: wheel<1.0,>=0.23.0 in c:\\users\\sankr\\pictures\\new folder\\lib\\site-packages (from astunparse>=1.6.0->tensorflow) (0.37.1)\n",
      "Requirement already satisfied: werkzeug>=1.0.1 in c:\\users\\sankr\\pictures\\new folder\\lib\\site-packages (from tensorboard<2.10,>=2.9->tensorflow) (2.0.3)\n",
      "Requirement already satisfied: google-auth-oauthlib<0.5,>=0.4.1 in c:\\users\\sankr\\pictures\\new folder\\lib\\site-packages (from tensorboard<2.10,>=2.9->tensorflow) (0.4.6)\n",
      "Requirement already satisfied: markdown>=2.6.8 in c:\\users\\sankr\\pictures\\new folder\\lib\\site-packages (from tensorboard<2.10,>=2.9->tensorflow) (3.3.4)\n",
      "Requirement already satisfied: requests<3,>=2.21.0 in c:\\users\\sankr\\pictures\\new folder\\lib\\site-packages (from tensorboard<2.10,>=2.9->tensorflow) (2.27.1)\n",
      "Requirement already satisfied: tensorboard-data-server<0.7.0,>=0.6.0 in c:\\users\\sankr\\pictures\\new folder\\lib\\site-packages (from tensorboard<2.10,>=2.9->tensorflow) (0.6.1)\n",
      "Requirement already satisfied: tensorboard-plugin-wit>=1.6.0 in c:\\users\\sankr\\pictures\\new folder\\lib\\site-packages (from tensorboard<2.10,>=2.9->tensorflow) (1.8.1)\n",
      "Requirement already satisfied: google-auth<3,>=1.6.3 in c:\\users\\sankr\\pictures\\new folder\\lib\\site-packages (from tensorboard<2.10,>=2.9->tensorflow) (1.33.0)\n",
      "Requirement already satisfied: pyasn1-modules>=0.2.1 in c:\\users\\sankr\\pictures\\new folder\\lib\\site-packages (from google-auth<3,>=1.6.3->tensorboard<2.10,>=2.9->tensorflow) (0.2.8)\n",
      "Requirement already satisfied: rsa<5,>=3.1.4 in c:\\users\\sankr\\pictures\\new folder\\lib\\site-packages (from google-auth<3,>=1.6.3->tensorboard<2.10,>=2.9->tensorflow) (4.7.2)\n",
      "Requirement already satisfied: cachetools<5.0,>=2.0.0 in c:\\users\\sankr\\pictures\\new folder\\lib\\site-packages (from google-auth<3,>=1.6.3->tensorboard<2.10,>=2.9->tensorflow) (4.2.2)\n",
      "Requirement already satisfied: requests-oauthlib>=0.7.0 in c:\\users\\sankr\\pictures\\new folder\\lib\\site-packages (from google-auth-oauthlib<0.5,>=0.4.1->tensorboard<2.10,>=2.9->tensorflow) (1.3.1)\n",
      "Requirement already satisfied: pyasn1<0.5.0,>=0.4.6 in c:\\users\\sankr\\pictures\\new folder\\lib\\site-packages (from pyasn1-modules>=0.2.1->google-auth<3,>=1.6.3->tensorboard<2.10,>=2.9->tensorflow) (0.4.8)\n",
      "Requirement already satisfied: certifi>=2017.4.17 in c:\\users\\sankr\\pictures\\new folder\\lib\\site-packages (from requests<3,>=2.21.0->tensorboard<2.10,>=2.9->tensorflow) (2021.10.8)\n",
      "Requirement already satisfied: urllib3<1.27,>=1.21.1 in c:\\users\\sankr\\pictures\\new folder\\lib\\site-packages (from requests<3,>=2.21.0->tensorboard<2.10,>=2.9->tensorflow) (1.26.9)\n",
      "Requirement already satisfied: idna<4,>=2.5 in c:\\users\\sankr\\pictures\\new folder\\lib\\site-packages (from requests<3,>=2.21.0->tensorboard<2.10,>=2.9->tensorflow) (3.3)\n",
      "Requirement already satisfied: charset-normalizer~=2.0.0 in c:\\users\\sankr\\pictures\\new folder\\lib\\site-packages (from requests<3,>=2.21.0->tensorboard<2.10,>=2.9->tensorflow) (2.0.4)\n",
      "Requirement already satisfied: oauthlib>=3.0.0 in c:\\users\\sankr\\pictures\\new folder\\lib\\site-packages (from requests-oauthlib>=0.7.0->google-auth-oauthlib<0.5,>=0.4.1->tensorboard<2.10,>=2.9->tensorflow) (3.2.0)\n",
      "Requirement already satisfied: pyparsing!=3.0.5,>=2.0.2 in c:\\users\\sankr\\pictures\\new folder\\lib\\site-packages (from packaging->tensorflow) (3.0.4)\n"
     ]
    }
   ],
   "source": [
    "!pip install tensorflow"
   ]
  },
  {
   "cell_type": "markdown",
   "id": "bb9134db",
   "metadata": {},
   "source": [
    "# Import Dependencies"
   ]
  },
  {
   "cell_type": "code",
   "execution_count": null,
   "id": "3afdb0c0",
   "metadata": {},
   "outputs": [],
   "source": [
    "from tensorflow.keras.layers import Dense #NN"
   ]
  },
  {
   "cell_type": "code",
   "execution_count": 5,
   "id": "56c148c3",
   "metadata": {},
   "outputs": [],
   "source": [
    "from tensorflow.keras.models import Sequential\n",
    "from tensorflow.keras.utils import to_categorical"
   ]
  },
  {
   "cell_type": "code",
   "execution_count": 6,
   "id": "15bab641",
   "metadata": {},
   "outputs": [],
   "source": [
    "# 0 - [1, 0, 0]\n",
    "# 1 - [0, 1, 0]\n",
    "# 2 - [0, 0, 1]"
   ]
  },
  {
   "cell_type": "code",
   "execution_count": 7,
   "id": "dab70ca5",
   "metadata": {},
   "outputs": [],
   "source": [
    "data = load_iris()\n",
    "features = data['data']\n",
    "target = data['target']"
   ]
  },
  {
   "cell_type": "code",
   "execution_count": 8,
   "id": "1047a87d",
   "metadata": {},
   "outputs": [
    {
     "data": {
      "text/plain": [
       "array([0, 0, 0, 0, 0, 0, 0, 0, 0, 0, 0, 0, 0, 0, 0, 0, 0, 0, 0, 0, 0, 0,\n",
       "       0, 0, 0, 0, 0, 0, 0, 0, 0, 0, 0, 0, 0, 0, 0, 0, 0, 0, 0, 0, 0, 0,\n",
       "       0, 0, 0, 0, 0, 0, 1, 1, 1, 1, 1, 1, 1, 1, 1, 1, 1, 1, 1, 1, 1, 1,\n",
       "       1, 1, 1, 1, 1, 1, 1, 1, 1, 1, 1, 1, 1, 1, 1, 1, 1, 1, 1, 1, 1, 1,\n",
       "       1, 1, 1, 1, 1, 1, 1, 1, 1, 1, 1, 1, 2, 2, 2, 2, 2, 2, 2, 2, 2, 2,\n",
       "       2, 2, 2, 2, 2, 2, 2, 2, 2, 2, 2, 2, 2, 2, 2, 2, 2, 2, 2, 2, 2, 2,\n",
       "       2, 2, 2, 2, 2, 2, 2, 2, 2, 2, 2, 2, 2, 2, 2, 2, 2, 2])"
      ]
     },
     "execution_count": 8,
     "metadata": {},
     "output_type": "execute_result"
    }
   ],
   "source": [
    "target"
   ]
  },
  {
   "cell_type": "code",
   "execution_count": 9,
   "id": "34ed317b",
   "metadata": {},
   "outputs": [],
   "source": [
    "targets_ = to_categorical(target, num_classes=3)"
   ]
  },
  {
   "cell_type": "code",
   "execution_count": 10,
   "id": "b3e1ff71",
   "metadata": {},
   "outputs": [
    {
     "data": {
      "text/plain": [
       "4"
      ]
     },
     "execution_count": 10,
     "metadata": {},
     "output_type": "execute_result"
    }
   ],
   "source": [
    "features.shape[1]"
   ]
  },
  {
   "cell_type": "code",
   "execution_count": 11,
   "id": "03753754",
   "metadata": {},
   "outputs": [],
   "source": [
    "from sklearn.model_selection import train_test_split\n",
    "\n",
    "X_train, X_test, y_train, y_test = train_test_split(features, targets_)\n",
    "X_train, X_val, y_train, y_val = train_test_split(X_train, y_train)"
   ]
  },
  {
   "cell_type": "markdown",
   "id": "553b337f",
   "metadata": {},
   "source": [
    "# Build and Compile Model"
   ]
  },
  {
   "cell_type": "code",
   "execution_count": 12,
   "id": "5a3b280e",
   "metadata": {},
   "outputs": [],
   "source": [
    "model = Sequential()\n",
    "\n",
    "model.add(Dense(100, input_shape=(features.shape[1],)))\n",
    "model.add(Dense(30, activation=\"relu\"))\n",
    "# model.add(Dense(45, activation=\"relu\"))\n",
    "# model.add(Dense(32, activation=\"relu\"))\n",
    "# model.add(Dense(23, activation=\"relu\"))\n",
    "model.add(Dense(3, activation=\"softmax\"))"
   ]
  },
  {
   "cell_type": "code",
   "execution_count": 13,
   "id": "6ba36bc7",
   "metadata": {},
   "outputs": [
    {
     "name": "stdout",
     "output_type": "stream",
     "text": [
      "Model: \"sequential\"\n",
      "_________________________________________________________________\n",
      " Layer (type)                Output Shape              Param #   \n",
      "=================================================================\n",
      " dense (Dense)               (None, 100)               500       \n",
      "                                                                 \n",
      " dense_1 (Dense)             (None, 30)                3030      \n",
      "                                                                 \n",
      " dense_2 (Dense)             (None, 3)                 93        \n",
      "                                                                 \n",
      "=================================================================\n",
      "Total params: 3,623\n",
      "Trainable params: 3,623\n",
      "Non-trainable params: 0\n",
      "_________________________________________________________________\n"
     ]
    }
   ],
   "source": [
    "model.summary()"
   ]
  },
  {
   "cell_type": "markdown",
   "id": "f1753b05",
   "metadata": {},
   "source": [
    "# Fit,Predict and Evaluate"
   ]
  },
  {
   "cell_type": "code",
   "execution_count": 14,
   "id": "c3bdae73",
   "metadata": {},
   "outputs": [],
   "source": [
    "import tensorflow\n",
    "\n",
    "model.compile(optimizer=\"sgd\", \n",
    "              loss=tensorflow.keras.losses.CategoricalCrossentropy(), \n",
    "              metrics=['accuracy'])"
   ]
  },
  {
   "cell_type": "code",
   "execution_count": 15,
   "id": "d52cd10a",
   "metadata": {},
   "outputs": [
    {
     "name": "stdout",
     "output_type": "stream",
     "text": [
      "Epoch 1/50\n",
      "3/3 [==============================] - 1s 86ms/step - loss: 1.2284 - accuracy: 0.5595 - val_loss: 0.9329 - val_accuracy: 0.5714\n",
      "Epoch 2/50\n",
      "3/3 [==============================] - 0s 12ms/step - loss: 0.7900 - accuracy: 0.7381 - val_loss: 0.8279 - val_accuracy: 0.5714\n",
      "Epoch 3/50\n",
      "3/3 [==============================] - 0s 6ms/step - loss: 0.6978 - accuracy: 0.7381 - val_loss: 0.9750 - val_accuracy: 0.5714\n",
      "Epoch 4/50\n",
      "3/3 [==============================] - 0s 12ms/step - loss: 0.6744 - accuracy: 0.7381 - val_loss: 0.8480 - val_accuracy: 0.5714\n",
      "Epoch 5/50\n",
      "3/3 [==============================] - 0s 12ms/step - loss: 0.6374 - accuracy: 0.7381 - val_loss: 0.7301 - val_accuracy: 0.5714\n",
      "Epoch 6/50\n",
      "3/3 [==============================] - 0s 12ms/step - loss: 0.6138 - accuracy: 0.7619 - val_loss: 0.8690 - val_accuracy: 0.5714\n",
      "Epoch 7/50\n",
      "3/3 [==============================] - 0s 15ms/step - loss: 0.5763 - accuracy: 0.7381 - val_loss: 0.7044 - val_accuracy: 0.5714\n",
      "Epoch 8/50\n",
      "3/3 [==============================] - 0s 12ms/step - loss: 0.5643 - accuracy: 0.7500 - val_loss: 0.6094 - val_accuracy: 0.8571\n",
      "Epoch 9/50\n",
      "3/3 [==============================] - 0s 12ms/step - loss: 0.6282 - accuracy: 0.7262 - val_loss: 0.6309 - val_accuracy: 0.7143\n",
      "Epoch 10/50\n",
      "3/3 [==============================] - 0s 12ms/step - loss: 0.5369 - accuracy: 0.8095 - val_loss: 0.6175 - val_accuracy: 0.7143\n",
      "Epoch 11/50\n",
      "3/3 [==============================] - 0s 12ms/step - loss: 0.5335 - accuracy: 0.8095 - val_loss: 0.6906 - val_accuracy: 0.5714\n",
      "Epoch 12/50\n",
      "3/3 [==============================] - 0s 12ms/step - loss: 0.5027 - accuracy: 0.7381 - val_loss: 0.5671 - val_accuracy: 0.8929\n",
      "Epoch 13/50\n",
      "3/3 [==============================] - 0s 8ms/step - loss: 0.4980 - accuracy: 0.8452 - val_loss: 0.6842 - val_accuracy: 0.5714\n",
      "Epoch 14/50\n",
      "3/3 [==============================] - 0s 12ms/step - loss: 0.4904 - accuracy: 0.7976 - val_loss: 0.7662 - val_accuracy: 0.5714\n",
      "Epoch 15/50\n",
      "3/3 [==============================] - 0s 8ms/step - loss: 0.4849 - accuracy: 0.7500 - val_loss: 0.6221 - val_accuracy: 0.5714\n",
      "Epoch 16/50\n",
      "3/3 [==============================] - 0s 12ms/step - loss: 0.4590 - accuracy: 0.7976 - val_loss: 0.6167 - val_accuracy: 0.5714\n",
      "Epoch 17/50\n",
      "3/3 [==============================] - 0s 9ms/step - loss: 0.4551 - accuracy: 0.7500 - val_loss: 0.5358 - val_accuracy: 0.8929\n",
      "Epoch 18/50\n",
      "3/3 [==============================] - 0s 12ms/step - loss: 0.4589 - accuracy: 0.8095 - val_loss: 0.5185 - val_accuracy: 0.8929\n",
      "Epoch 19/50\n",
      "3/3 [==============================] - 0s 12ms/step - loss: 0.4582 - accuracy: 0.8452 - val_loss: 0.5555 - val_accuracy: 0.6786\n",
      "Epoch 20/50\n",
      "3/3 [==============================] - 0s 12ms/step - loss: 0.4312 - accuracy: 0.8571 - val_loss: 0.6372 - val_accuracy: 0.5714\n",
      "Epoch 21/50\n",
      "3/3 [==============================] - 0s 8ms/step - loss: 0.4381 - accuracy: 0.8333 - val_loss: 0.6918 - val_accuracy: 0.5714\n",
      "Epoch 22/50\n",
      "3/3 [==============================] - 0s 12ms/step - loss: 0.4342 - accuracy: 0.7738 - val_loss: 0.6185 - val_accuracy: 0.5714\n",
      "Epoch 23/50\n",
      "3/3 [==============================] - 0s 12ms/step - loss: 0.4195 - accuracy: 0.7738 - val_loss: 0.5806 - val_accuracy: 0.5714\n",
      "Epoch 24/50\n",
      "3/3 [==============================] - 0s 8ms/step - loss: 0.4229 - accuracy: 0.8571 - val_loss: 0.7003 - val_accuracy: 0.5714\n",
      "Epoch 25/50\n",
      "3/3 [==============================] - 0s 12ms/step - loss: 0.4416 - accuracy: 0.7500 - val_loss: 0.5222 - val_accuracy: 0.6786\n",
      "Epoch 26/50\n",
      "3/3 [==============================] - 0s 12ms/step - loss: 0.3970 - accuracy: 0.8571 - val_loss: 0.5459 - val_accuracy: 0.6786\n",
      "Epoch 27/50\n",
      "3/3 [==============================] - 0s 12ms/step - loss: 0.4201 - accuracy: 0.8095 - val_loss: 0.5061 - val_accuracy: 0.7143\n",
      "Epoch 28/50\n",
      "3/3 [==============================] - 0s 12ms/step - loss: 0.3870 - accuracy: 0.8810 - val_loss: 0.5205 - val_accuracy: 0.6786\n",
      "Epoch 29/50\n",
      "3/3 [==============================] - 0s 12ms/step - loss: 0.3829 - accuracy: 0.8571 - val_loss: 0.5320 - val_accuracy: 0.6786\n",
      "Epoch 30/50\n",
      "3/3 [==============================] - 0s 12ms/step - loss: 0.3792 - accuracy: 0.8452 - val_loss: 0.5315 - val_accuracy: 0.6786\n",
      "Epoch 31/50\n",
      "3/3 [==============================] - 0s 12ms/step - loss: 0.3746 - accuracy: 0.8690 - val_loss: 0.5136 - val_accuracy: 0.6786\n",
      "Epoch 32/50\n",
      "3/3 [==============================] - 0s 12ms/step - loss: 0.3858 - accuracy: 0.8452 - val_loss: 0.4690 - val_accuracy: 0.7857\n",
      "Epoch 33/50\n",
      "3/3 [==============================] - 0s 12ms/step - loss: 0.3877 - accuracy: 0.9167 - val_loss: 0.6525 - val_accuracy: 0.5714\n",
      "Epoch 34/50\n",
      "3/3 [==============================] - 0s 12ms/step - loss: 0.3947 - accuracy: 0.8452 - val_loss: 0.5084 - val_accuracy: 0.6786\n",
      "Epoch 35/50\n",
      "3/3 [==============================] - 0s 12ms/step - loss: 0.3722 - accuracy: 0.8214 - val_loss: 0.4983 - val_accuracy: 0.6786\n",
      "Epoch 36/50\n",
      "3/3 [==============================] - 0s 12ms/step - loss: 0.3620 - accuracy: 0.8333 - val_loss: 0.4487 - val_accuracy: 0.8214\n",
      "Epoch 37/50\n",
      "3/3 [==============================] - 0s 8ms/step - loss: 0.3810 - accuracy: 0.8571 - val_loss: 0.4090 - val_accuracy: 0.8929\n",
      "Epoch 38/50\n",
      "3/3 [==============================] - 0s 12ms/step - loss: 0.3690 - accuracy: 0.8929 - val_loss: 0.4351 - val_accuracy: 0.8929\n",
      "Epoch 39/50\n",
      "3/3 [==============================] - 0s 12ms/step - loss: 0.3526 - accuracy: 0.9048 - val_loss: 0.4154 - val_accuracy: 0.8929\n",
      "Epoch 40/50\n",
      "3/3 [==============================] - 0s 12ms/step - loss: 0.3520 - accuracy: 0.8929 - val_loss: 0.4151 - val_accuracy: 0.8929\n",
      "Epoch 41/50\n",
      "3/3 [==============================] - 0s 12ms/step - loss: 0.3419 - accuracy: 0.9405 - val_loss: 0.4973 - val_accuracy: 0.6786\n",
      "Epoch 42/50\n",
      "3/3 [==============================] - 0s 12ms/step - loss: 0.3349 - accuracy: 0.8571 - val_loss: 0.4255 - val_accuracy: 0.8571\n",
      "Epoch 43/50\n",
      "3/3 [==============================] - 0s 12ms/step - loss: 0.3415 - accuracy: 0.9405 - val_loss: 0.6158 - val_accuracy: 0.5714\n",
      "Epoch 44/50\n",
      "3/3 [==============================] - 0s 8ms/step - loss: 0.3441 - accuracy: 0.8095 - val_loss: 0.3977 - val_accuracy: 0.8929\n",
      "Epoch 45/50\n",
      "3/3 [==============================] - 0s 12ms/step - loss: 0.3265 - accuracy: 0.9643 - val_loss: 0.5464 - val_accuracy: 0.6429\n",
      "Epoch 46/50\n",
      "3/3 [==============================] - 0s 12ms/step - loss: 0.3506 - accuracy: 0.8690 - val_loss: 0.5804 - val_accuracy: 0.5714\n",
      "Epoch 47/50\n",
      "3/3 [==============================] - 0s 8ms/step - loss: 0.3263 - accuracy: 0.8571 - val_loss: 0.4047 - val_accuracy: 0.8929\n",
      "Epoch 48/50\n",
      "3/3 [==============================] - 0s 12ms/step - loss: 0.3281 - accuracy: 0.8929 - val_loss: 0.3846 - val_accuracy: 0.8929\n",
      "Epoch 49/50\n",
      "3/3 [==============================] - 0s 12ms/step - loss: 0.3184 - accuracy: 0.9643 - val_loss: 0.5338 - val_accuracy: 0.6429\n",
      "Epoch 50/50\n",
      "3/3 [==============================] - 0s 12ms/step - loss: 0.3158 - accuracy: 0.8452 - val_loss: 0.4140 - val_accuracy: 0.8214\n"
     ]
    },
    {
     "data": {
      "text/plain": [
       "<keras.callbacks.History at 0x21cc0c3beb0>"
      ]
     },
     "execution_count": 15,
     "metadata": {},
     "output_type": "execute_result"
    }
   ],
   "source": [
    "model.fit(X_train, y_train, epochs=50, validation_data=(X_val, y_val))"
   ]
  },
  {
   "cell_type": "code",
   "execution_count": 16,
   "id": "24019163",
   "metadata": {},
   "outputs": [
    {
     "data": {
      "text/plain": [
       "(84, 4)"
      ]
     },
     "execution_count": 16,
     "metadata": {},
     "output_type": "execute_result"
    }
   ],
   "source": [
    "X_train.shape"
   ]
  },
  {
   "cell_type": "code",
   "execution_count": 17,
   "id": "f38e9a4f",
   "metadata": {},
   "outputs": [
    {
     "data": {
      "text/plain": [
       "(84, 3)"
      ]
     },
     "execution_count": 17,
     "metadata": {},
     "output_type": "execute_result"
    }
   ],
   "source": [
    "y_train.shape"
   ]
  },
  {
   "cell_type": "code",
   "execution_count": 18,
   "id": "1fe296dd",
   "metadata": {},
   "outputs": [
    {
     "name": "stdout",
     "output_type": "stream",
     "text": [
      "2/2 [==============================] - 0s 0s/step\n"
     ]
    }
   ],
   "source": [
    "#y_pred = model.predict(X_test)\n",
    "y_pred = np.argmax(model.predict(X_test),axis=1)"
   ]
  },
  {
   "cell_type": "code",
   "execution_count": 19,
   "id": "775642b4",
   "metadata": {},
   "outputs": [
    {
     "data": {
      "text/plain": [
       "array([1, 1, 1, 1, 2, 1, 2, 0, 1, 1, 0, 1, 2, 2, 0, 0, 2, 2, 2, 2, 0, 2,\n",
       "       0, 1, 2, 0, 1, 1, 1, 2, 2, 1, 0, 2, 0, 1, 0, 0], dtype=int64)"
      ]
     },
     "execution_count": 19,
     "metadata": {},
     "output_type": "execute_result"
    }
   ],
   "source": [
    "y_pred"
   ]
  },
  {
   "cell_type": "code",
   "execution_count": 20,
   "id": "8306f10f",
   "metadata": {},
   "outputs": [
    {
     "data": {
      "text/plain": [
       "0.9473684210526315"
      ]
     },
     "execution_count": 20,
     "metadata": {},
     "output_type": "execute_result"
    }
   ],
   "source": [
    "from sklearn.metrics import accuracy_score\n",
    "\n",
    "y_test_ = []\n",
    "\n",
    "for i in y_test:\n",
    "    \n",
    "    y_test_.append(np.argmax(i))\n",
    "\n",
    "accuracy_score(y_test_, y_pred)"
   ]
  },
  {
   "cell_type": "markdown",
   "id": "0bd2bc22",
   "metadata": {},
   "source": [
    "# Saving and Reloading"
   ]
  },
  {
   "cell_type": "code",
   "execution_count": 21,
   "id": "bcde2e61",
   "metadata": {},
   "outputs": [],
   "source": [
    "model.save(\"NN.h5\")"
   ]
  },
  {
   "cell_type": "code",
   "execution_count": 22,
   "id": "49ac5a1a",
   "metadata": {},
   "outputs": [],
   "source": [
    "from tensorflow.keras.models import load_model"
   ]
  },
  {
   "cell_type": "code",
   "execution_count": 23,
   "id": "b24524b2",
   "metadata": {},
   "outputs": [],
   "source": [
    "model = load_model(\"./NN.h5\")"
   ]
  },
  {
   "cell_type": "code",
   "execution_count": 24,
   "id": "5c0ada54",
   "metadata": {},
   "outputs": [
    {
     "name": "stdout",
     "output_type": "stream",
     "text": [
      "Model: \"sequential\"\n",
      "_________________________________________________________________\n",
      " Layer (type)                Output Shape              Param #   \n",
      "=================================================================\n",
      " dense (Dense)               (None, 100)               500       \n",
      "                                                                 \n",
      " dense_1 (Dense)             (None, 30)                3030      \n",
      "                                                                 \n",
      " dense_2 (Dense)             (None, 3)                 93        \n",
      "                                                                 \n",
      "=================================================================\n",
      "Total params: 3,623\n",
      "Trainable params: 3,623\n",
      "Non-trainable params: 0\n",
      "_________________________________________________________________\n"
     ]
    }
   ],
   "source": [
    "model.summary()"
   ]
  },
  {
   "cell_type": "code",
   "execution_count": 25,
   "id": "98d2ba11",
   "metadata": {},
   "outputs": [
    {
     "name": "stdout",
     "output_type": "stream",
     "text": [
      "1/1 [==============================] - 0s 48ms/step\n"
     ]
    }
   ],
   "source": [
    "clas = model.predict([[0.9, 0.8, 0.5, 0.9]])"
   ]
  },
  {
   "cell_type": "code",
   "execution_count": 26,
   "id": "cebfd395",
   "metadata": {},
   "outputs": [
    {
     "data": {
      "text/plain": [
       "array([[0.28534973, 0.3422799 , 0.3723703 ]], dtype=float32)"
      ]
     },
     "execution_count": 26,
     "metadata": {},
     "output_type": "execute_result"
    }
   ],
   "source": [
    "clas"
   ]
  },
  {
   "cell_type": "code",
   "execution_count": 27,
   "id": "d3b8216d",
   "metadata": {},
   "outputs": [],
   "source": [
    "# np.argmax(clas)"
   ]
  },
  {
   "cell_type": "code",
   "execution_count": 28,
   "id": "7ebae0de",
   "metadata": {},
   "outputs": [
    {
     "data": {
      "text/plain": [
       "'iris color'"
      ]
     },
     "execution_count": 28,
     "metadata": {},
     "output_type": "execute_result"
    }
   ],
   "source": [
    "classes = ['iris satosa', 'virginica', 'iris color']\n",
    "\n",
    "classes[np.argmax(clas)]"
   ]
  },
  {
   "cell_type": "code",
   "execution_count": null,
   "id": "6608ae6e",
   "metadata": {},
   "outputs": [],
   "source": []
  }
 ],
 "metadata": {
  "kernelspec": {
   "display_name": "Python 3 (ipykernel)",
   "language": "python",
   "name": "python3"
  },
  "language_info": {
   "codemirror_mode": {
    "name": "ipython",
    "version": 3
   },
   "file_extension": ".py",
   "mimetype": "text/x-python",
   "name": "python",
   "nbconvert_exporter": "python",
   "pygments_lexer": "ipython3",
   "version": "3.9.12"
  }
 },
 "nbformat": 4,
 "nbformat_minor": 5
}
